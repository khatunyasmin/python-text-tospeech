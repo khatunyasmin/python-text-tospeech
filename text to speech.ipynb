{
 "cells": [
  {
   "cell_type": "code",
   "execution_count": null,
   "id": "5051b50a",
   "metadata": {},
   "outputs": [],
   "source": [
    "import pyttsx3\n",
    "import webbrowser\n",
    "\n",
    "def speak(text):\n",
    "    engine = pyttsx3.init()\n",
    "    engine.say(text)\n",
    "    engine.runAndWait()\n",
    "\n",
    "def open_website(website_name):\n",
    "    if \"google\" in website_name:\n",
    "        speak(\"Opening Google.\")\n",
    "        webbrowser.open(\"https://www.google.com\")\n",
    "    elif \"youtube\" in website_name:\n",
    "        speak(\"Opening YouTube.\")\n",
    "        webbrowser.open(\"https://www.youtube.com\")\n",
    "    elif \"facebook\" in website_name:\n",
    "        speak(\"Opening Facebook.\")\n",
    "        webbrowser.open(\"https://www.facebook.com\")\n",
    "    # Add more conditions for other commands as needed\n",
    "\n",
    "if __name__ == \"_main_\":\n",
    "    while True:\n",
    "        user_input = input(\"Please say something: \").lower()\n",
    "        if user_input:\n",
    "            open_website(user_input)"
   ]
  },
  {
   "cell_type": "code",
   "execution_count": null,
   "id": "1b95ae96",
   "metadata": {},
   "outputs": [],
   "source": [
    "print(\"hello\")"
   ]
  },
  {
   "cell_type": "code",
   "execution_count": null,
   "id": "546a43a2",
   "metadata": {},
   "outputs": [],
   "source": [
    "import pyttsx3\n",
    "import webbrowser\n",
    "\n",
    "def speak(text):\n",
    "    engine = pyttsx3.init()\n",
    "    engine.say(text)\n",
    "    engine.runAndWait()\n",
    "\n",
    "def open_website(website_name):\n",
    "    if \"google\" in website_name:\n",
    "        speak(\"Opening Google.\")\n",
    "        webbrowser.open(\"https://www.google.com\")\n",
    "    elif \"youtube\" in website_name:\n",
    "        speak(\"Opening YouTube.\")\n",
    "        webbrowser.open(\"https://www.youtube.com\")\n",
    "    elif \"facebook\" in website_name:\n",
    "        speak(\"Opening Facebook.\")\n",
    "        webbrowser.open(\"https://www.facebook.com\")\n",
    "    # Add more conditions for other commands as needed\n",
    "\n",
    "if __name__ == \"_main_\":\n",
    "    while True:\n",
    "        user_input = input(\"Please say something: \").lower()\n",
    "        if user_input:\n",
    "            open_website(user_input)"
   ]
  },
  {
   "cell_type": "code",
   "execution_count": null,
   "id": "fb341f0b",
   "metadata": {},
   "outputs": [
    {
     "name": "stdout",
     "output_type": "stream",
     "text": [
      "Please say something: Opening YouTube\n",
      "Opening YouTube.\n",
      "Please say something: Opening Google\n",
      "Opening Google.\n"
     ]
    }
   ],
   "source": [
    "import pyttsx3\n",
    "import webbrowser\n",
    "\n",
    "def speak(text):\n",
    "    engine = pyttsx3.init()\n",
    "    print(text)  # Print the text to the console\n",
    "    engine.say(text)\n",
    "    engine.runAndWait()\n",
    "\n",
    "def open_website(website_name):\n",
    "    if \"google\" in website_name:\n",
    "        speak(\"Opening Google.\")\n",
    "        webbrowser.open(\"https://www.google.com\")\n",
    "    elif \"youtube\" in website_name:\n",
    "        speak(\"Opening YouTube.\")\n",
    "        webbrowser.open(\"https://www.youtube.com\")\n",
    "    elif \"facebook\" in website_name:\n",
    "        speak(\"Opening Facebook.\")\n",
    "        webbrowser.open(\"https://www.facebook.com\")\n",
    "    # Add more conditions for other commands as needed\n",
    "\n",
    "if __name__ == \"__main__\":  # Fix the typo here\n",
    "    while True:\n",
    "        user_input = input(\"Please say something: \").lower()\n",
    "        if user_input:\n",
    "            open_website(user_input)\n"
   ]
  },
  {
   "cell_type": "code",
   "execution_count": null,
   "id": "29af8890",
   "metadata": {},
   "outputs": [],
   "source": [
    "import pyttsx3\n",
    "\n",
    "def speak(text):\n",
    "    engine = pyttsx3.init()\n",
    "    engine.say(text)\n",
    "    engine.runAndWait()\n",
    "\n",
    "if __name__ == \"__main__\":\n",
    "    while True:\n",
    "        user_input = input(\"Type something (or type 'exit' to quit): \")\n",
    "        if user_input.lower() == \"exit\":\n",
    "            break\n",
    "        speak(user_input)\n"
   ]
  },
  {
   "cell_type": "code",
   "execution_count": null,
   "id": "a6c3b76b",
   "metadata": {},
   "outputs": [],
   "source": []
  }
 ],
 "metadata": {
  "kernelspec": {
   "display_name": "Python 3 (ipykernel)",
   "language": "python",
   "name": "python3"
  },
  "language_info": {
   "codemirror_mode": {
    "name": "ipython",
    "version": 3
   },
   "file_extension": ".py",
   "mimetype": "text/x-python",
   "name": "python",
   "nbconvert_exporter": "python",
   "pygments_lexer": "ipython3",
   "version": "3.10.9"
  }
 },
 "nbformat": 4,
 "nbformat_minor": 5
}
